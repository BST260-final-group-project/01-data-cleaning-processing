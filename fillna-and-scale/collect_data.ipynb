{
 "cells": [
  {
   "cell_type": "code",
   "execution_count": 20,
   "metadata": {
    "collapsed": true
   },
   "outputs": [],
   "source": [
    "import pandas as pd\n",
    "import numpy as np\n",
    "import seaborn as sns\n",
    "import matplotlib.pyplot as plt\n",
    "%matplotlib inline\n",
    "from scipy.special import boxcox1p\n",
    "from sklearn import preprocessing\n",
    "\n",
    "plt.style.use('ggplot')"
   ]
  },
  {
   "cell_type": "code",
   "execution_count": 21,
   "metadata": {
    "collapsed": true
   },
   "outputs": [],
   "source": [
    "# Read data\n",
    "feature_CZ = pd.read_csv(\"feature_CZ_fillna_scale.csv\")\n",
    "feature_JK = pd.read_csv(\"feature_JK_fillna_scale.csv\")\n",
    "feature_JJC = pd.read_csv(\"feature_JJC_fillna_scale2.csv\")\n",
    "feature_HYJ = pd.read_csv(\"feature_HYJ_fillna_scale.csv\")"
   ]
  },
  {
   "cell_type": "code",
   "execution_count": 3,
   "metadata": {
    "collapsed": true
   },
   "outputs": [],
   "source": [
    "# Create empty data frame for data collection\n",
    "feature_fillna = pd.DataFrame()\n",
    "feature_fillna[\"Id\"] = feature_HYJ[\"Id\"]\n",
    "feature_fillna[\"source\"] = feature_HYJ[\"source\"]\n",
    "feature_fillna[\"SalePrice\"] = feature_HYJ[\"SalePrice\"]"
   ]
  },
  {
   "cell_type": "code",
   "execution_count": 4,
   "metadata": {
    "collapsed": true
   },
   "outputs": [],
   "source": [
    "# Drop \"Id\", \"source\", and \"SalePrice\" for every orginal feature data\n",
    "column_drop = [\"Id\", \"source\", \"SalePrice\"]\n",
    "\n",
    "feature_CZ = feature_CZ.drop(column_drop, axis = 1)\n",
    "feature_JK = feature_JK.drop(column_drop, axis = 1)\n",
    "feature_JJC = feature_JJC.drop(column_drop, axis = 1)\n",
    "feature_HYJ = feature_HYJ.drop(column_drop, axis = 1)"
   ]
  },
  {
   "cell_type": "code",
   "execution_count": 5,
   "metadata": {
    "collapsed": true
   },
   "outputs": [],
   "source": [
    "# Join features\n",
    "feature_fillna = feature_fillna.join(feature_CZ)\n",
    "feature_fillna = feature_fillna.join(feature_JK)\n",
    "feature_fillna = feature_fillna.join(feature_JJC)\n",
    "feature_fillna = feature_fillna.join(feature_HYJ)"
   ]
  },
  {
   "cell_type": "code",
   "execution_count": 6,
   "metadata": {
    "collapsed": false
   },
   "outputs": [
    {
     "data": {
      "text/plain": [
       "Index([u'Id', u'source', u'SalePrice', u'Heating', u'HeatingQC', u'HouseStyle',\n",
       "       u'KitchenAbvGr', u'KitchenQual', u'LandContour', u'LandSlope',\n",
       "       u'LotArea', u'LotConfig', u'LotFrontage', u'LotShape', u'LowQualFinSF',\n",
       "       u'MSSubClass', u'MSZoning', u'MasVnrArea', u'MasVnrType',\n",
       "       u'MiscFeature', u'MiscVal', u'MoSold', u'Neighborhood', u'ExterCond',\n",
       "       u'ExterQual', u'Exterior1st', u'Exterior2nd', u'Fence', u'FireplaceQu',\n",
       "       u'Fireplaces', u'Foundation', u'Functional', u'GarageArea',\n",
       "       u'GarageFinish', u'GarageQual', u'GarageType', u'GarageYrBlt',\n",
       "       u'GrLivArea', u'Bath', u'Unnamed: 0', u'1stFlrSF', u'2ndFlrSF',\n",
       "       u'3SsnPorch', u'Alley', u'BedroomAbvGr', u'BldgType', u'BsmtCond',\n",
       "       u'BsmtExposure', u'BsmtFinSF1', u'BsmtFinSF2', u'BsmtFinType1',\n",
       "       u'BsmtFinType2', u'BsmtFullBath', u'BsmtHalfBath', u'BsmtQual',\n",
       "       u'BsmtUnfSF', u'CentralAir', u'Condition1', u'Condition2',\n",
       "       u'Electrical', u'OpenPorchSF', u'OverallCond', u'OverallQual',\n",
       "       u'PavedDrive', u'PoolArea', u'PoolQC', u'RoofMatl', u'RoofStyle',\n",
       "       u'SaleType', u'ScreenPorch', u'Street', u'TotRmsAbvGrd', u'TotalBsmtSF',\n",
       "       u'Utilities', u'WoodDeckSF', u'YearBuilt', u'YearRemodAdd', u'YrSold'],\n",
       "      dtype='object')"
      ]
     },
     "execution_count": 6,
     "metadata": {},
     "output_type": "execute_result"
    }
   ],
   "source": [
    "feature_fillna.columns"
   ]
  },
  {
   "cell_type": "code",
   "execution_count": 7,
   "metadata": {
    "collapsed": true
   },
   "outputs": [],
   "source": [
    "feature_fillna.to_csv(\"feature_fillna_scale.csv\", index = False)"
   ]
  },
  {
   "cell_type": "code",
   "execution_count": 8,
   "metadata": {
    "collapsed": true
   },
   "outputs": [],
   "source": [
    "# Covert \"BsmtCond\" from categorical to ordinal \n",
    "map_BsmtCond = {\"Ex\":5, \"Gd\":4, \"TA\":3, \"Fa\":2, \"Po\":1, \"NA\":0}\n",
    "feature_fillna[\"BsmtCond\"] = feature_fillna[\"BsmtCond\"].fillna(\"NA\")\n",
    "feature_fillna[\"BsmtCond\"] = [map_BsmtCond[x] for x in feature_fillna[\"BsmtCond\"]]"
   ]
  },
  {
   "cell_type": "code",
   "execution_count": 9,
   "metadata": {
    "collapsed": true
   },
   "outputs": [],
   "source": [
    "# Covert \"BsmtQual\" from categorical to ordinal \n",
    "map_BsmtQual = {\"Ex\":5, \"Gd\":4, \"TA\":3, \"Fa\":2, \"Po\":1, \"NA\":0}\n",
    "feature_fillna[\"BsmtQual\"] = feature_fillna[\"BsmtQual\"].fillna(\"NA\")\n",
    "feature_fillna[\"BsmtQual\"] = [map_BsmtQual[x] for x in feature_fillna[\"BsmtQual\"]]"
   ]
  },
  {
   "cell_type": "code",
   "execution_count": 10,
   "metadata": {
    "collapsed": true
   },
   "outputs": [],
   "source": [
    "# Covert \"BsmtExposure\" from categorical to ordinal \n",
    "map_BsmtExposure = {\"Gd\":4, \"Av\":3, \"Mn\":2, \"No\":1, \"NA\":0}\n",
    "feature_fillna[\"BsmtExposure\"] = feature_fillna[\"BsmtExposure\"].fillna(\"NA\")\n",
    "feature_fillna[\"BsmtExposure\"] = [map_BsmtExposure[x] for x in feature_fillna[\"BsmtExposure\"]]"
   ]
  },
  {
   "cell_type": "code",
   "execution_count": 11,
   "metadata": {
    "collapsed": true
   },
   "outputs": [],
   "source": [
    "# Covert \"BsmtFinType1\" from categorical to ordinal \n",
    "map_BsmtFinType1 = {\"GLQ\":6, \"ALQ\":5, \"BLQ\":4, \"Rec\":3, \"LwQ\":2, \"Unf\":1, \"NA\":0}\n",
    "feature_fillna[\"BsmtFinType1\"] = feature_fillna[\"BsmtFinType1\"].fillna(\"NA\")\n",
    "feature_fillna[\"BsmtFinType1\"] = [map_BsmtFinType1[x] for x in feature_fillna[\"BsmtFinType1\"]]"
   ]
  },
  {
   "cell_type": "code",
   "execution_count": 12,
   "metadata": {
    "collapsed": true
   },
   "outputs": [],
   "source": [
    "# Covert \"BsmtFinType2\" from categorical to ordinal \n",
    "map_BsmtFinType2 = {\"GLQ\":6, \"ALQ\":5, \"BLQ\":4, \"Rec\":3, \"LwQ\":2, \"Unf\":1, \"NA\":0}\n",
    "feature_fillna[\"BsmtFinType2\"] = feature_fillna[\"BsmtFinType2\"].fillna(\"NA\")\n",
    "feature_fillna[\"BsmtFinType2\"] = [map_BsmtFinType2[x] for x in feature_fillna[\"BsmtFinType2\"]]"
   ]
  },
  {
   "cell_type": "code",
   "execution_count": 13,
   "metadata": {
    "collapsed": true
   },
   "outputs": [],
   "source": [
    "# Covert \"PavedDrive\" from categorical to ordinal \n",
    "map_PavedDrive = {\"Y\":2, \"P\":1, \"N\":0}\n",
    "feature_fillna[\"PavedDrive\"] = [map_PavedDrive[x] for x in feature_fillna[\"PavedDrive\"]]"
   ]
  },
  {
   "cell_type": "code",
   "execution_count": 14,
   "metadata": {
    "collapsed": false
   },
   "outputs": [
    {
     "data": {
      "text/html": [
       "<div>\n",
       "<style>\n",
       "    .dataframe thead tr:only-child th {\n",
       "        text-align: right;\n",
       "    }\n",
       "\n",
       "    .dataframe thead th {\n",
       "        text-align: left;\n",
       "    }\n",
       "\n",
       "    .dataframe tbody tr th {\n",
       "        vertical-align: top;\n",
       "    }\n",
       "</style>\n",
       "<table border=\"1\" class=\"dataframe\">\n",
       "  <thead>\n",
       "    <tr style=\"text-align: right;\">\n",
       "      <th></th>\n",
       "      <th>Missing Ratio</th>\n",
       "    </tr>\n",
       "  </thead>\n",
       "  <tbody>\n",
       "    <tr>\n",
       "      <th>Alley</th>\n",
       "      <td>93.216855</td>\n",
       "    </tr>\n",
       "    <tr>\n",
       "      <th>SalePrice</th>\n",
       "      <td>49.982871</td>\n",
       "    </tr>\n",
       "    <tr>\n",
       "      <th>BsmtFinSF2</th>\n",
       "      <td>0.034258</td>\n",
       "    </tr>\n",
       "  </tbody>\n",
       "</table>\n",
       "</div>"
      ],
      "text/plain": [
       "            Missing Ratio\n",
       "Alley           93.216855\n",
       "SalePrice       49.982871\n",
       "BsmtFinSF2       0.034258"
      ]
     },
     "execution_count": 14,
     "metadata": {},
     "output_type": "execute_result"
    }
   ],
   "source": [
    "#Check remaining missing values if any\n",
    "all_data = feature_fillna\n",
    "all_data_na = (all_data.isnull().sum() / len(all_data)) * 100\n",
    "all_data_na = all_data_na.drop(all_data_na[all_data_na == 0].index).sort_values(ascending=False)\n",
    "missing_data = pd.DataFrame({'Missing Ratio' :all_data_na})\n",
    "missing_data.head()"
   ]
  },
  {
   "cell_type": "code",
   "execution_count": 15,
   "metadata": {
    "collapsed": true
   },
   "outputs": [],
   "source": [
    "feature_fillna[\"Alley\"] = feature_fillna[\"Alley\"].fillna(\"None\")\n",
    "feature_fillna[\"BsmtFinSF2\"] = feature_fillna[\"BsmtFinSF2\"].fillna(0)"
   ]
  },
  {
   "cell_type": "code",
   "execution_count": 16,
   "metadata": {
    "collapsed": false
   },
   "outputs": [
    {
     "data": {
      "text/html": [
       "<div>\n",
       "<style>\n",
       "    .dataframe thead tr:only-child th {\n",
       "        text-align: right;\n",
       "    }\n",
       "\n",
       "    .dataframe thead th {\n",
       "        text-align: left;\n",
       "    }\n",
       "\n",
       "    .dataframe tbody tr th {\n",
       "        vertical-align: top;\n",
       "    }\n",
       "</style>\n",
       "<table border=\"1\" class=\"dataframe\">\n",
       "  <thead>\n",
       "    <tr style=\"text-align: right;\">\n",
       "      <th></th>\n",
       "      <th>Missing Ratio</th>\n",
       "    </tr>\n",
       "  </thead>\n",
       "  <tbody>\n",
       "    <tr>\n",
       "      <th>SalePrice</th>\n",
       "      <td>49.982871</td>\n",
       "    </tr>\n",
       "  </tbody>\n",
       "</table>\n",
       "</div>"
      ],
      "text/plain": [
       "           Missing Ratio\n",
       "SalePrice      49.982871"
      ]
     },
     "execution_count": 16,
     "metadata": {},
     "output_type": "execute_result"
    }
   ],
   "source": [
    "# Check remaining missing values if any\n",
    "all_data = feature_fillna\n",
    "all_data_na = (all_data.isnull().sum() / len(all_data)) * 100\n",
    "all_data_na = all_data_na.drop(all_data_na[all_data_na == 0].index).sort_values(ascending=False)\n",
    "missing_data = pd.DataFrame({'Missing Ratio' :all_data_na})\n",
    "missing_data.head()"
   ]
  },
  {
   "cell_type": "code",
   "execution_count": null,
   "metadata": {
    "collapsed": true
   },
   "outputs": [],
   "source": []
  }
 ],
 "metadata": {
  "kernelspec": {
   "display_name": "Python 2",
   "language": "python",
   "name": "python2"
  },
  "language_info": {
   "codemirror_mode": {
    "name": "ipython",
    "version": 2
   },
   "file_extension": ".py",
   "mimetype": "text/x-python",
   "name": "python",
   "nbconvert_exporter": "python",
   "pygments_lexer": "ipython2",
   "version": "2.7.13"
  }
 },
 "nbformat": 4,
 "nbformat_minor": 2
}
