{
 "cells": [
  {
   "cell_type": "code",
   "execution_count": 60,
   "metadata": {
    "collapsed": true
   },
   "outputs": [],
   "source": [
    "import pandas as pd\n",
    "import numpy as np\n",
    "import seaborn as sns\n",
    "import matplotlib.pyplot as plt\n",
    "%matplotlib inline\n",
    "from scipy.special import boxcox1p\n",
    "from sklearn import preprocessing\n",
    "\n",
    "plt.style.use('ggplot')"
   ]
  },
  {
   "cell_type": "code",
   "execution_count": 61,
   "metadata": {
    "collapsed": true
   },
   "outputs": [],
   "source": [
    "# Read data\n",
    "feature_CZ = pd.read_csv(\"feature_CZ_fillna.csv\")\n",
    "feature_JK = pd.read_csv(\"feature_JK_fillna.csv\")\n",
    "feature_JJC = pd.read_csv(\"feature_JJC_fillna.csv\")\n",
    "feature_HYJ = pd.read_csv(\"feature_HYJ_fillna.csv\")"
   ]
  },
  {
   "cell_type": "code",
   "execution_count": 62,
   "metadata": {
    "collapsed": true
   },
   "outputs": [],
   "source": [
    "# Create empty data frame for data collection\n",
    "feature_fillna = pd.DataFrame()"
   ]
  },
  {
   "cell_type": "code",
   "execution_count": 63,
   "metadata": {
    "collapsed": false
   },
   "outputs": [],
   "source": [
    "feature_fillna[\"Id\"] = feature_HYJ[\"Id\"]\n",
    "feature_fillna[\"source\"] = feature_HYJ[\"source\"]\n",
    "feature_fillna[\"SalePrice\"] = feature_HYJ[\"SalePrice\"]"
   ]
  },
  {
   "cell_type": "code",
   "execution_count": 64,
   "metadata": {
    "collapsed": true
   },
   "outputs": [],
   "source": [
    "# Drop \"Id\", \"source\", and \"SalePrice\" for every orginal feature data\n",
    "column_drop = [\"Id\", \"source\", \"SalePrice\"]\n",
    "\n",
    "feature_CZ = feature_CZ.drop(column_drop, axis = 1)\n",
    "feature_JK = feature_JK.drop(column_drop, axis = 1)\n",
    "feature_JJC = feature_JJC.drop(column_drop, axis = 1)\n",
    "feature_HYJ = feature_HYJ.drop(column_drop, axis = 1)"
   ]
  },
  {
   "cell_type": "code",
   "execution_count": 65,
   "metadata": {
    "collapsed": true
   },
   "outputs": [],
   "source": [
    "# Join features\n",
    "feature_fillna = feature_fillna.join(feature_CZ)\n",
    "feature_fillna = feature_fillna.join(feature_JK)\n",
    "feature_fillna = feature_fillna.join(feature_JJC)\n",
    "feature_fillna = feature_fillna.join(feature_HYJ)"
   ]
  },
  {
   "cell_type": "code",
   "execution_count": 66,
   "metadata": {
    "collapsed": false
   },
   "outputs": [
    {
     "data": {
      "text/plain": [
       "Index([u'Id', u'source', u'SalePrice', u'Heating', u'HeatingQC', u'HouseStyle',\n",
       "       u'KitchenAbvGr', u'KitchenQual', u'LandContour', u'LandSlope',\n",
       "       u'LotArea', u'LotConfig', u'LotFrontage', u'LotShape', u'LowQualFinSF',\n",
       "       u'MSSubClass', u'MSZoning', u'MasVnrArea', u'MasVnrType',\n",
       "       u'MiscFeature', u'MiscVal', u'MoSold', u'Neighborhood',\n",
       "       u'EnclosedPorch', u'ExterCond', u'ExterQual', u'Exterior1st',\n",
       "       u'Exterior2nd', u'Fence', u'FireplaceQu', u'Fireplaces', u'Foundation',\n",
       "       u'FullBath', u'Functional', u'GarageArea', u'GarageCars', u'GarageCond',\n",
       "       u'GarageFinish', u'GarageQual', u'GarageType', u'GarageYrBlt',\n",
       "       u'GrLivArea', u'HalfBath', u'1stFlrSF', u'2ndFlrSF', u'3SsnPorch',\n",
       "       u'Alley', u'BedroomAbvGr', u'BldgType', u'BsmtCond', u'BsmtExposure',\n",
       "       u'BsmtFinSF1', u'BsmtFinSF2', u'BsmtFinType1', u'BsmtFinType2',\n",
       "       u'BsmtFullBath', u'BsmtHalfBath', u'BsmtQual', u'BsmtUnfSF',\n",
       "       u'CentralAir', u'Condition1', u'Condition2', u'Electrical',\n",
       "       u'OpenPorchSF', u'OverallCond', u'OverallQual', u'PavedDrive',\n",
       "       u'PoolArea', u'PoolQC', u'RoofMatl', u'RoofStyle', u'SaleCondition',\n",
       "       u'SaleType', u'ScreenPorch', u'Street', u'TotRmsAbvGrd', u'TotalBsmtSF',\n",
       "       u'Utilities', u'WoodDeckSF', u'YearBuilt', u'YearRemodAdd', u'YrSold'],\n",
       "      dtype='object')"
      ]
     },
     "execution_count": 66,
     "metadata": {},
     "output_type": "execute_result"
    }
   ],
   "source": [
    "feature_fillna.columns"
   ]
  },
  {
   "cell_type": "code",
   "execution_count": 69,
   "metadata": {
    "collapsed": false
   },
   "outputs": [
    {
     "ename": "KeyError",
     "evalue": "3",
     "output_type": "error",
     "traceback": [
      "\u001b[0;31m---------------------------------------------------------------------------\u001b[0m",
      "\u001b[0;31mKeyError\u001b[0m                                  Traceback (most recent call last)",
      "\u001b[0;32m<ipython-input-69-e120756ba73d>\u001b[0m in \u001b[0;36m<module>\u001b[0;34m()\u001b[0m\n\u001b[1;32m      2\u001b[0m \u001b[0mmap_BsmtCond\u001b[0m \u001b[0;34m=\u001b[0m \u001b[0;34m{\u001b[0m\u001b[0;34m\"Ex\"\u001b[0m\u001b[0;34m:\u001b[0m\u001b[0;36m5\u001b[0m\u001b[0;34m,\u001b[0m \u001b[0;34m\"Gd\"\u001b[0m\u001b[0;34m:\u001b[0m\u001b[0;36m4\u001b[0m\u001b[0;34m,\u001b[0m \u001b[0;34m\"TA\"\u001b[0m\u001b[0;34m:\u001b[0m\u001b[0;36m3\u001b[0m\u001b[0;34m,\u001b[0m \u001b[0;34m\"Fa\"\u001b[0m\u001b[0;34m:\u001b[0m\u001b[0;36m2\u001b[0m\u001b[0;34m,\u001b[0m \u001b[0;34m\"Po\"\u001b[0m\u001b[0;34m:\u001b[0m\u001b[0;36m1\u001b[0m\u001b[0;34m,\u001b[0m \u001b[0;34m\"NA\"\u001b[0m\u001b[0;34m:\u001b[0m\u001b[0;36m0\u001b[0m\u001b[0;34m}\u001b[0m\u001b[0;34m\u001b[0m\u001b[0m\n\u001b[1;32m      3\u001b[0m \u001b[0mfeature_fillna\u001b[0m\u001b[0;34m[\u001b[0m\u001b[0;34m\"BsmtCond\"\u001b[0m\u001b[0;34m]\u001b[0m \u001b[0;34m=\u001b[0m \u001b[0mfeature_fillna\u001b[0m\u001b[0;34m[\u001b[0m\u001b[0;34m\"BsmtCond\"\u001b[0m\u001b[0;34m]\u001b[0m\u001b[0;34m.\u001b[0m\u001b[0mfillna\u001b[0m\u001b[0;34m(\u001b[0m\u001b[0;34m\"NA\"\u001b[0m\u001b[0;34m)\u001b[0m\u001b[0;34m\u001b[0m\u001b[0m\n\u001b[0;32m----> 4\u001b[0;31m \u001b[0mfeature_fillna\u001b[0m\u001b[0;34m[\u001b[0m\u001b[0;34m\"BsmtCond\"\u001b[0m\u001b[0;34m]\u001b[0m \u001b[0;34m=\u001b[0m \u001b[0;34m[\u001b[0m\u001b[0mmap_BsmtCond\u001b[0m\u001b[0;34m[\u001b[0m\u001b[0mx\u001b[0m\u001b[0;34m]\u001b[0m \u001b[0;32mfor\u001b[0m \u001b[0mx\u001b[0m \u001b[0;32min\u001b[0m \u001b[0mfeature_fillna\u001b[0m\u001b[0;34m[\u001b[0m\u001b[0;34m\"BsmtCond\"\u001b[0m\u001b[0;34m]\u001b[0m\u001b[0;34m]\u001b[0m\u001b[0;34m\u001b[0m\u001b[0m\n\u001b[0m",
      "\u001b[0;31mKeyError\u001b[0m: 3"
     ]
    }
   ],
   "source": [
    "# Covert \"BsmtCond\" from categorical to ordinal \n",
    "map_BsmtCond = {\"Ex\":5, \"Gd\":4, \"TA\":3, \"Fa\":2, \"Po\":1, \"NA\":0}\n",
    "feature_fillna[\"BsmtCond\"] = feature_fillna[\"BsmtCond\"].fillna(\"NA\")\n",
    "feature_fillna[\"BsmtCond\"] = [map_BsmtCond[x] for x in feature_fillna[\"BsmtCond\"]]"
   ]
  },
  {
   "cell_type": "code",
   "execution_count": 70,
   "metadata": {
    "collapsed": true
   },
   "outputs": [],
   "source": [
    "# Covert \"BsmtQual\" from categorical to ordinal \n",
    "map_BsmtQual = {\"Ex\":5, \"Gd\":4, \"TA\":3, \"Fa\":2, \"Po\":1, \"NA\":0}\n",
    "feature_fillna[\"BsmtQual\"] = feature_fillna[\"BsmtQual\"].fillna(\"NA\")\n",
    "feature_fillna[\"BsmtQual\"] = [map_BsmtQual[x] for x in feature_fillna[\"BsmtQual\"]]"
   ]
  },
  {
   "cell_type": "code",
   "execution_count": 44,
   "metadata": {
    "collapsed": true
   },
   "outputs": [],
   "source": [
    "# Covert \"BsmtExposure\" from categorical to ordinal \n",
    "map_BsmtExposure = {\"Gd\":4, \"Av\":3, \"Mn\":2, \"No\":1, \"NA\":0}\n",
    "feature_fillna[\"BsmtExposure\"] = feature_fillna[\"BsmtExposure\"].fillna(\"NA\")\n",
    "feature_fillna[\"BsmtExposure\"] = [map_BsmtExposure[x] for x in feature_fillna[\"BsmtExposure\"]]"
   ]
  },
  {
   "cell_type": "code",
   "execution_count": 45,
   "metadata": {
    "collapsed": true
   },
   "outputs": [],
   "source": [
    "# Covert \"BsmtFinType1\" from categorical to ordinal \n",
    "map_BsmtFinType1 = {\"GLQ\":6, \"ALQ\":5, \"BLQ\":4, \"Rec\":3, \"LwQ\":2, \"Unf\":1, \"NA\":0}\n",
    "feature_fillna[\"BsmtFinType1\"] = feature_fillna[\"BsmtFinType1\"].fillna(\"NA\")\n",
    "feature_fillna[\"BsmtFinType1\"] = [map_BsmtFinType1[x] for x in feature_fillna[\"BsmtFinType1\"]]"
   ]
  },
  {
   "cell_type": "code",
   "execution_count": 46,
   "metadata": {
    "collapsed": true
   },
   "outputs": [],
   "source": [
    "# Covert \"BsmtFinType2\" from categorical to ordinal \n",
    "map_BsmtFinType2 = {\"GLQ\":6, \"ALQ\":5, \"BLQ\":4, \"Rec\":3, \"LwQ\":2, \"Unf\":1, \"NA\":0}\n",
    "feature_fillna[\"BsmtFinType2\"] = feature_fillna[\"BsmtFinType2\"].fillna(\"NA\")\n",
    "feature_fillna[\"BsmtFinType2\"] = [map_BsmtFinType2[x] for x in feature_fillna[\"BsmtFinType2\"]]"
   ]
  },
  {
   "cell_type": "code",
   "execution_count": 47,
   "metadata": {
    "collapsed": true
   },
   "outputs": [],
   "source": [
    "# Covert \"PavedDrive\" from categorical to ordinal \n",
    "map_PavedDrive = {\"Y\":2, \"P\":1, \"N\":0}\n",
    "feature_fillna[\"PavedDrive\"] = [map_PavedDrive[x] for x in feature_fillna[\"PavedDrive\"]]"
   ]
  },
  {
   "cell_type": "code",
   "execution_count": 48,
   "metadata": {
    "collapsed": false
   },
   "outputs": [
    {
     "data": {
      "text/html": [
       "<div>\n",
       "<style>\n",
       "    .dataframe thead tr:only-child th {\n",
       "        text-align: right;\n",
       "    }\n",
       "\n",
       "    .dataframe thead th {\n",
       "        text-align: left;\n",
       "    }\n",
       "\n",
       "    .dataframe tbody tr th {\n",
       "        vertical-align: top;\n",
       "    }\n",
       "</style>\n",
       "<table border=\"1\" class=\"dataframe\">\n",
       "  <thead>\n",
       "    <tr style=\"text-align: right;\">\n",
       "      <th></th>\n",
       "      <th>Missing Ratio</th>\n",
       "    </tr>\n",
       "  </thead>\n",
       "  <tbody>\n",
       "    <tr>\n",
       "      <th>Alley</th>\n",
       "      <td>93.216855</td>\n",
       "    </tr>\n",
       "    <tr>\n",
       "      <th>SalePrice</th>\n",
       "      <td>49.982871</td>\n",
       "    </tr>\n",
       "    <tr>\n",
       "      <th>BsmtFinSF2</th>\n",
       "      <td>0.034258</td>\n",
       "    </tr>\n",
       "  </tbody>\n",
       "</table>\n",
       "</div>"
      ],
      "text/plain": [
       "            Missing Ratio\n",
       "Alley           93.216855\n",
       "SalePrice       49.982871\n",
       "BsmtFinSF2       0.034258"
      ]
     },
     "execution_count": 48,
     "metadata": {},
     "output_type": "execute_result"
    }
   ],
   "source": [
    "#Check remaining missing values if any\n",
    "all_data = feature_fillna\n",
    "all_data_na = (all_data.isnull().sum() / len(all_data)) * 100\n",
    "all_data_na = all_data_na.drop(all_data_na[all_data_na == 0].index).sort_values(ascending=False)\n",
    "missing_data = pd.DataFrame({'Missing Ratio' :all_data_na})\n",
    "missing_data.head()"
   ]
  },
  {
   "cell_type": "code",
   "execution_count": 49,
   "metadata": {
    "collapsed": true
   },
   "outputs": [],
   "source": [
    "feature_fillna[\"Alley\"] = feature_fillna[\"Alley\"].fillna(\"None\")"
   ]
  },
  {
   "cell_type": "code",
   "execution_count": 50,
   "metadata": {
    "collapsed": true
   },
   "outputs": [],
   "source": [
    "feature_fillna[\"BsmtFinSF2\"] = feature_fillna[\"BsmtFinSF2\"].fillna(0)"
   ]
  },
  {
   "cell_type": "code",
   "execution_count": 51,
   "metadata": {
    "collapsed": false
   },
   "outputs": [
    {
     "data": {
      "text/html": [
       "<div>\n",
       "<style>\n",
       "    .dataframe thead tr:only-child th {\n",
       "        text-align: right;\n",
       "    }\n",
       "\n",
       "    .dataframe thead th {\n",
       "        text-align: left;\n",
       "    }\n",
       "\n",
       "    .dataframe tbody tr th {\n",
       "        vertical-align: top;\n",
       "    }\n",
       "</style>\n",
       "<table border=\"1\" class=\"dataframe\">\n",
       "  <thead>\n",
       "    <tr style=\"text-align: right;\">\n",
       "      <th></th>\n",
       "      <th>Missing Ratio</th>\n",
       "    </tr>\n",
       "  </thead>\n",
       "  <tbody>\n",
       "    <tr>\n",
       "      <th>SalePrice</th>\n",
       "      <td>49.982871</td>\n",
       "    </tr>\n",
       "  </tbody>\n",
       "</table>\n",
       "</div>"
      ],
      "text/plain": [
       "           Missing Ratio\n",
       "SalePrice      49.982871"
      ]
     },
     "execution_count": 51,
     "metadata": {},
     "output_type": "execute_result"
    }
   ],
   "source": [
    "#Check remaining missing values if any\n",
    "all_data = feature_fillna\n",
    "all_data_na = (all_data.isnull().sum() / len(all_data)) * 100\n",
    "all_data_na = all_data_na.drop(all_data_na[all_data_na == 0].index).sort_values(ascending=False)\n",
    "missing_data = pd.DataFrame({'Missing Ratio' :all_data_na})\n",
    "missing_data.head()"
   ]
  },
  {
   "cell_type": "code",
   "execution_count": 52,
   "metadata": {
    "collapsed": true
   },
   "outputs": [],
   "source": [
    "# Replace \"missing\" in \"BsmtFinSF1\" with 0\n",
    "feature_fillna.loc[feature_fillna[\"BsmtFinSF1\"] == \"missing\", \"BsmtFinSF1\"] = 0"
   ]
  },
  {
   "cell_type": "code",
   "execution_count": 53,
   "metadata": {
    "collapsed": true
   },
   "outputs": [],
   "source": [
    "# Replace \"missing\" in \"BsmtFullBath\" with 0\n",
    "feature_fillna.loc[feature_fillna[\"BsmtFullBath\"] == \"missing\", \"BsmtFullBath\"] = 0"
   ]
  },
  {
   "cell_type": "code",
   "execution_count": 54,
   "metadata": {
    "collapsed": true
   },
   "outputs": [],
   "source": [
    "# Replace \"missing\" in \"BsmtHalfBath\" with 0\n",
    "feature_fillna.loc[feature_fillna[\"BsmtHalfBath\"] == \"missing\", \"BsmtHalfBath\"] = 0"
   ]
  },
  {
   "cell_type": "code",
   "execution_count": 55,
   "metadata": {
    "collapsed": false
   },
   "outputs": [],
   "source": [
    "# Replace \"missing\" in \"BsmtUnfSF\" with 0\n",
    "feature_fillna.loc[feature_fillna[\"BsmtUnfSF\"] == \"missing\", \"BsmtUnfSF\"] = 0"
   ]
  },
  {
   "cell_type": "code",
   "execution_count": 56,
   "metadata": {
    "collapsed": true
   },
   "outputs": [],
   "source": [
    "# Replace \"missing\" in \"Electrical\" with \"SBrkr\"\n",
    "feature_fillna.loc[feature_fillna[\"Electrical\"] == \"missing\", \"Electrical\"] = \"SBrkr\""
   ]
  },
  {
   "cell_type": "code",
   "execution_count": null,
   "metadata": {
    "collapsed": true
   },
   "outputs": [],
   "source": [
    "feature_fillna[\"MSSubClass\"] = feature_fillna[\"MSSubClass\"].apply(str)\n",
    "# Some datatype of numerical features are mistaken as str\n",
    "feature_fillna[\"LotFrontage\"] = feature_fillna[\"LotFrontage\"].apply(float)\n",
    "feature_fillna[\"LowQualFinSF\"] = feature_fillna[\"LowQualFinSF\"].apply(float)\n",
    "feature_fillna[\"BsmtFinSF1\"] = feature_fillna[\"BsmtFinSF1\"].apply(float)\n",
    "feature_fillna[\"BsmtFullBath\"] = feature_fillna[\"BsmtFullBath\"].apply(float)\n",
    "feature_fillna[\"BsmtHalfBath\"] = feature_fillna[\"BsmtHalfBath\"].apply(float)\n",
    "feature_fillna[\"BsmtUnfSF\"] = feature_fillna[\"BsmtUnfSF\"].apply(float)\n"
   ]
  },
  {
   "cell_type": "code",
   "execution_count": 57,
   "metadata": {
    "collapsed": false
   },
   "outputs": [
    {
     "data": {
      "text/plain": [
       "82"
      ]
     },
     "execution_count": 57,
     "metadata": {},
     "output_type": "execute_result"
    }
   ],
   "source": [
    "# Original number of columns\n",
    "len(feature_fillna.columns)"
   ]
  },
  {
   "cell_type": "code",
   "execution_count": 58,
   "metadata": {
    "collapsed": false
   },
   "outputs": [
    {
     "data": {
      "text/plain": [
       "2555"
      ]
     },
     "execution_count": 58,
     "metadata": {},
     "output_type": "execute_result"
    }
   ],
   "source": [
    "# One-hot method\n",
    "source = feature_fillna[\"source\"]\n",
    "feature_fillna = feature_fillna.drop(\"source\", axis = 1)\n",
    "feature_fillna = pd.get_dummies(feature_fillna)\n",
    "feature_fillna[\"source\"] = source\n",
    "len(feature_fillna.columns)"
   ]
  },
  {
   "cell_type": "code",
   "execution_count": 59,
   "metadata": {
    "collapsed": true
   },
   "outputs": [],
   "source": [
    "feature_fillna.to_csv(\"feature_fillna3.csv\", index = False)"
   ]
  },
  {
   "cell_type": "code",
   "execution_count": null,
   "metadata": {
    "collapsed": true
   },
   "outputs": [],
   "source": []
  }
 ],
 "metadata": {
  "kernelspec": {
   "display_name": "Python 2",
   "language": "python",
   "name": "python2"
  },
  "language_info": {
   "codemirror_mode": {
    "name": "ipython",
    "version": 2
   },
   "file_extension": ".py",
   "mimetype": "text/x-python",
   "name": "python",
   "nbconvert_exporter": "python",
   "pygments_lexer": "ipython2",
   "version": "2.7.13"
  }
 },
 "nbformat": 4,
 "nbformat_minor": 2
}
